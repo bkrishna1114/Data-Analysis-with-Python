{
 "cells": [
  {
   "cell_type": "markdown",
   "id": "d6a345ef",
   "metadata": {},
   "source": [
    "## Automobiles Price Prediction."
   ]
  },
  {
   "cell_type": "code",
   "execution_count": 57,
   "id": "6949cde4",
   "metadata": {},
   "outputs": [],
   "source": [
    "#importing libraries...\n",
    "import pandas as pd\n",
    "import numpy as np\n",
    "from sklearn.metrics import mean_absolute_error\n",
    "from sklearn.tree import DecisionTreeRegressor\n",
    "from sklearn.model_selection import train_test_split\n",
    "from sklearn.ensemble import RandomForestRegressor"
   ]
  },
  {
   "cell_type": "code",
   "execution_count": 58,
   "id": "687420bf",
   "metadata": {
    "scrolled": false
   },
   "outputs": [],
   "source": [
    "df = pd.read_csv('Automobiles_cleaned.csv',index_col=0)"
   ]
  },
  {
   "cell_type": "code",
   "execution_count": 59,
   "id": "3b4c94e0",
   "metadata": {},
   "outputs": [],
   "source": [
    "df.num_of_doors.value_counts()\n",
    "df.num_of_doors.replace({'four':4,'two':2},inplace=True)\n",
    "df.num_of_doors= df.num_of_doors.astype(int)\n",
    "df.num_of_doors.value_counts() #Values Changed now\n",
    "df.horsepower= df.horsepower.astype(int)\n",
    "df.peak_rpm = df.peak_rpm.fillna(df.peak_rpm.mean())"
   ]
  },
  {
   "cell_type": "code",
   "execution_count": 60,
   "id": "c1d2a223",
   "metadata": {},
   "outputs": [],
   "source": [
    "#Lets Split the Data...\n",
    "features = ['symboling', 'normalized_losses', 'wheel_base', 'length', 'width',\n",
    "       'height', 'curb_weight', 'engine_size', 'bore', 'stroke',\n",
    "       'compression_ratio', 'horsepower', 'peak_rpm', 'city_mpg',\n",
    "       'highway_mpg', 'highway_mpL100km', 'city_L100km',\n",
    "       'Fuel_Type_diesel', 'Fuel_type_GAS', 'aspiration_Std',\n",
    "       'aspiration_Turbo']\n",
    "#features = df.select_dtypes(exclude=object).columns"
   ]
  },
  {
   "cell_type": "code",
   "execution_count": 61,
   "id": "469e645e",
   "metadata": {},
   "outputs": [],
   "source": [
    "Test_Data = df[features][::-1]\n",
    "Train_Data = df\n",
    "Train_Data.reset_index(inplace=True)\n",
    "Train_Data=Train_Data.drop(columns='index',axis=1)"
   ]
  },
  {
   "cell_type": "code",
   "execution_count": 62,
   "id": "2f48d574",
   "metadata": {
    "scrolled": false
   },
   "outputs": [
    {
     "name": "stdout",
     "output_type": "stream",
     "text": [
      "numbet of leafs :  10\n",
      "MAE :  1882.4704747185497\n",
      "Actual :  [9549.0, 6229.0, 10245.0, 7295.0, 9989.0]\n",
      "Predicted :  [9792.0, 7306.0, 9792.0, 7306.0, 15883.0] \n",
      "\n",
      "numbet of leafs :  25\n",
      "MAE :  1533.2425738218421\n",
      "Actual :  [9549.0, 6229.0, 10245.0, 7295.0, 9989.0]\n",
      "Predicted :  [9911.0, 6607.0, 9911.0, 6607.0, 12156.0] \n",
      "\n",
      "numbet of leafs :  40\n",
      "MAE :  1404.2772067363528\n",
      "Actual :  [9549.0, 6229.0, 10245.0, 7295.0, 9989.0]\n",
      "Predicted :  [9517.0, 6272.0, 9517.0, 6272.0, 12156.0] \n",
      "\n",
      "numbet of leafs :  75\n",
      "MAE :  1514.9828910926472\n",
      "Actual :  [9549.0, 6229.0, 10245.0, 7295.0, 9989.0]\n",
      "Predicted :  [9418.0, 6670.0, 8254.0, 6670.0, 11549.0] \n",
      "\n",
      "numbet of leafs :  50\n",
      "MAE :  1418.9878048780488\n",
      "Actual :  [9549.0, 6229.0, 10245.0, 7295.0, 9989.0]\n",
      "Predicted :  [9030.0, 6559.0, 9030.0, 6559.0, 12156.0] \n",
      "\n",
      "numbet of leafs :  100\n",
      "MAE :  1544.4308943089432\n",
      "Actual :  [9549.0, 6229.0, 10245.0, 7295.0, 9989.0]\n",
      "Predicted :  [9226.0, 6337.0, 8254.0, 6488.0, 11549.0] \n",
      "\n",
      "numbet of leafs :  200\n",
      "MAE :  1531.0\n",
      "Actual :  [9549.0, 6229.0, 10245.0, 7295.0, 9989.0]\n",
      "Predicted :  [8949.0, 6229.0, 8495.0, 6488.0, 11549.0] \n",
      "\n",
      "numbet of leafs :  250\n",
      "MAE :  1531.0\n",
      "Actual :  [9549.0, 6229.0, 10245.0, 7295.0, 9989.0]\n",
      "Predicted :  [8949.0, 6229.0, 8495.0, 6488.0, 11549.0] \n",
      "\n",
      "numbet of leafs :  500\n",
      "MAE :  1531.0\n",
      "Actual :  [9549.0, 6229.0, 10245.0, 7295.0, 9989.0]\n",
      "Predicted :  [8949.0, 6229.0, 8495.0, 6488.0, 11549.0] \n",
      "\n",
      "numbet of leafs :  1000\n",
      "MAE :  1531.0\n",
      "Actual :  [9549.0, 6229.0, 10245.0, 7295.0, 9989.0]\n",
      "Predicted :  [8949.0, 6229.0, 8495.0, 6488.0, 11549.0] \n",
      "\n",
      "numbet of leafs :  5000\n",
      "MAE :  1531.0\n",
      "Actual :  [9549.0, 6229.0, 10245.0, 7295.0, 9989.0]\n",
      "Predicted :  [8949.0, 6229.0, 8495.0, 6488.0, 11549.0] \n",
      "\n"
     ]
    }
   ],
   "source": [
    "Y = Train_Data.price\n",
    "X = Train_Data[features]\n",
    "\n",
    "#lets split the Train Data set...\n",
    "\n",
    "X_train,x_val,Y_train,y_val = train_test_split(X,Y,train_size=0.8,test_size=0.2,random_state=1)\n",
    "\n",
    "for n in [10,25,40,75,50,100,200,250,500,1000,5000]:\n",
    "    model_D = DecisionTreeRegressor(max_leaf_nodes=n,random_state=0)\n",
    "    model_D.fit(X_train,Y_train)\n",
    "    preds_D = model_D.predict(x_val)\n",
    "    mae = mean_absolute_error(y_val,preds_D)\n",
    "    print(\"numbet of leafs : \",n)\n",
    "    print(\"MAE : \",mae)\n",
    "    print('Actual : ',y_val.head().tolist())\n",
    "    print('Predicted : ',preds_D[0:5].round().tolist(),'\\n')"
   ]
  },
  {
   "cell_type": "code",
   "execution_count": 63,
   "id": "b2d564a3",
   "metadata": {},
   "outputs": [
    {
     "name": "stdout",
     "output_type": "stream",
     "text": [
      "[16845.0, 19045.0, 21485.0, 22470.0, 22625.0]\n",
      "predicted : [22990.0, 22990.0, 21485.0, 18130.0, 18130.0]\n"
     ]
    }
   ],
   "source": [
    "model_D = DecisionTreeRegressor(max_leaf_nodes=40,random_state=1)\n",
    "model_D.fit(Train_Data[features],Train_Data.price)\n",
    "preds_D = model_D.predict(Test_Data)\n",
    "print(df.price.tail(5).tolist())\n",
    "print('predicted :',preds_D[0:5].round().tolist())"
   ]
  },
  {
   "cell_type": "markdown",
   "id": "8c45ce98",
   "metadata": {},
   "source": [
    "# Random Forest..."
   ]
  },
  {
   "cell_type": "code",
   "execution_count": 64,
   "id": "f320da09",
   "metadata": {},
   "outputs": [],
   "source": [
    "#Creating Randomg forest models....\n",
    "\n",
    "model_1 = RandomForestRegressor(n_estimators=50,random_state=0)\n",
    "model_2=RandomForestRegressor(n_estimators=100,random_state=0)\n",
    "model_3 = RandomForestRegressor(n_estimators=100,max_depth=10,random_state=0)\n",
    "model_4 = RandomForestRegressor(n_estimators=100, criterion='mae', random_state=0)\n",
    "model_5 = RandomForestRegressor(n_estimators=200, min_samples_split=20, random_state=0)\n",
    "\n",
    "models = [model_1,model_2,model_3,model_4,model_5]"
   ]
  },
  {
   "cell_type": "code",
   "execution_count": 65,
   "id": "b00e03fd",
   "metadata": {},
   "outputs": [
    {
     "name": "stdout",
     "output_type": "stream",
     "text": [
      "Model 1 1100.0174715447154\n",
      "Model 2 1127.4674918699186\n",
      "Model 3 1107.9582302916626\n",
      "Model 4 1154.8282926829268\n",
      "Model 5 1365.6503520242431\n"
     ]
    }
   ],
   "source": [
    "def RF(x,y,xval,yval,m):\n",
    "    m.fit(x,y)\n",
    "    preds = m.predict(xval)\n",
    "    return preds\n",
    "    \n",
    "for model in range(len(models)):\n",
    "    preds = RF(X_train,Y_train,x_val,y_val,models[model])\n",
    "    print('Model {}'.format(model+1),mean_absolute_error(y_val,preds))"
   ]
  },
  {
   "cell_type": "code",
   "execution_count": 66,
   "id": "e59276cf",
   "metadata": {},
   "outputs": [
    {
     "name": "stdout",
     "output_type": "stream",
     "text": [
      "Actual [13495.0, 16500.0, 16500.0, 13950.0, 17450.0]\n",
      "predicted [9659.0, 6490.0, 10204.0, 6960.0, 12508.0]\n"
     ]
    }
   ],
   "source": [
    "preds = model_5.predict(x_val)\n",
    "actual = df.price.head(5)\n",
    "\n",
    "print('Actual',actual.round().tolist())\n",
    "print('predicted',preds[0:5].round().tolist())"
   ]
  },
  {
   "cell_type": "code",
   "execution_count": null,
   "id": "ed9425ab",
   "metadata": {},
   "outputs": [],
   "source": []
  }
 ],
 "metadata": {
  "kernelspec": {
   "display_name": "Python 3",
   "language": "python",
   "name": "python3"
  },
  "language_info": {
   "codemirror_mode": {
    "name": "ipython",
    "version": 3
   },
   "file_extension": ".py",
   "mimetype": "text/x-python",
   "name": "python",
   "nbconvert_exporter": "python",
   "pygments_lexer": "ipython3",
   "version": "3.8.8"
  }
 },
 "nbformat": 4,
 "nbformat_minor": 5
}
